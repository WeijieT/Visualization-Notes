{
 "cells": [
  {
   "cell_type": "code",
   "execution_count": 2,
   "metadata": {
    "ExecuteTime": {
     "end_time": "2019-06-12T15:24:21.052920Z",
     "start_time": "2019-06-12T15:24:21.040096Z"
    }
   },
   "outputs": [],
   "source": [
    "%matplotlib inline"
   ]
  },
  {
   "cell_type": "code",
   "execution_count": 50,
   "metadata": {
    "ExecuteTime": {
     "end_time": "2019-06-12T16:05:58.615605Z",
     "start_time": "2019-06-12T16:05:58.468361Z"
    }
   },
   "outputs": [
    {
     "name": "stdout",
     "output_type": "stream",
     "text": [
      "Path(array([[0., 0.],\n",
      "       [1., 0.],\n",
      "       [1., 1.]]), array([1, 3, 3], dtype=uint8))\n"
     ]
    },
    {
     "data": {
      "image/png": "[encoded data removed]",
      "text/plain": [
       "<Figure size 432x288 with 1 Axes>"
      ]
     },
     "metadata": {
      "needs_background": "light"
     },
     "output_type": "display_data"
    }
   ],
   "source": [
    "import matplotlib.path as mpath\n",
    "import matplotlib.patches as mpatches\n",
    "import matplotlib.pyplot as plt\n",
    "import numpy as np\n",
    "\n",
    "\n",
    "Path = mpath.Path\n",
    "\n",
    "fig, ax = plt.subplots()\n",
    "pp1 = mpatches.PathPatch(\n",
    "    Path([(0, 0), (1, 0), (1, 1)],\n",
    "         [Path.MOVETO, Path.CURVE3, Path.CURVE3]),\n",
    "    fc=\"none\", transform=ax.transData)\n",
    "ax.add_patch(pp1)\n",
    "\n",
    "print(pp1.get_path())\n",
    "\n",
    "ax.plot([0.75], [0.25], \"ro\")\n",
    "ax.set_title('The red point should be on the path')\n",
    "\n",
    "plt.show()"
   ]
  },
  {
   "cell_type": "markdown",
   "metadata": {
    "ExecuteTime": {
     "end_time": "2019-06-12T15:32:12.958384Z",
     "start_time": "2019-06-12T15:32:12.952592Z"
    }
   },
   "source": [
    "https://matplotlib.org/3.1.0/gallery/shapes_and_collections/quad_bezier.html"
   ]
  },
  {
   "cell_type": "code",
   "execution_count": 181,
   "metadata": {
    "ExecuteTime": {
     "end_time": "2019-06-12T16:52:22.143162Z",
     "start_time": "2019-06-12T16:52:22.134178Z"
    }
   },
   "outputs": [],
   "source": [
    "def quadBrezPoints(P0, P1, P2, nSamples):\n",
    "    ans = np.zeros((nSamples,2))\n",
    "    for i in range(nSamples):\n",
    "        t = (i+0.0)/nSamples\n",
    "        ans[i,0] = (1-t)**2 * P0[0] + 2*(1-t)*t*P1[0] + t**2 * P2[0]\n",
    "        ans[i,1] = (1-t)**2 * P0[1] + 2*(1-t)*t*P1[1] + t**2 * P2[1]\n",
    "    return ans"
   ]
  },
  {
   "cell_type": "code",
   "execution_count": 182,
   "metadata": {
    "ExecuteTime": {
     "end_time": "2019-06-12T16:52:22.641628Z",
     "start_time": "2019-06-12T16:52:22.503079Z"
    },
    "scrolled": true
   },
   "outputs": [
    {
     "data": {
      "text/plain": [
       "[<matplotlib.lines.Line2D at 0x7fc474faa0f0>]"
      ]
     },
     "execution_count": 182,
     "metadata": {},
     "output_type": "execute_result"
    },
    {
     "data": {
      "image/png": "[encoded data removed]",
      "text/plain": [
       "<Figure size 432x288 with 1 Axes>"
      ]
     },
     "metadata": {
      "needs_background": "light"
     },
     "output_type": "display_data"
    }
   ],
   "source": [
    "from matplotlib.collections import LineCollection\n",
    "from matplotlib.colors import ListedColormap, BoundaryNorm\n",
    "\n",
    "bezier_seg = quadBrezPoints((0, 0),(50,25),(100,0), 100)\n",
    "plt.axis([0,100,0,100])\n",
    "plt.plot(*zip(*bezier_seg))"
   ]
  },
  {
   "cell_type": "markdown",
   "metadata": {},
   "source": [
    "https://en.wikipedia.org/wiki/B%C3%A9zier_curve"
   ]
  },
  {
   "cell_type": "code",
   "execution_count": 395,
   "metadata": {
    "ExecuteTime": {
     "end_time": "2019-06-12T19:54:55.469508Z",
     "start_time": "2019-06-12T19:54:55.447737Z"
    }
   },
   "outputs": [],
   "source": [
    "from matplotlib.collections import LineCollection\n",
    "from matplotlib.colors import ListedColormap, BoundaryNorm\n",
    "\n",
    "def get_p1(p0,p2):\n",
    "    x0, y0 = p0\n",
    "    x2, y2 = p2\n",
    "    \n",
    "    #middle_point\n",
    "    mid_x = (x0 + x2) / 2\n",
    "    mid_y = (y0 + y2) / 2\n",
    "    \n",
    "    vector_x = x2 - x0\n",
    "    vector_y = y2 - y0\n",
    "    \n",
    "    clockwise_90_vector_x = vector_y\n",
    "    clockwise_90_vector_y = - vector_x\n",
    "    \n",
    "    x1 = mid_x + clockwise_90_vector_x / 2\n",
    "    y1 = mid_y + clockwise_90_vector_y / 2\n",
    "    \n",
    "    return (x1,y1)\n",
    "    \n",
    "def one_grad_quad_bezier(p0,p1,p2,color='RdYlGn',linewidth=5):\n",
    "    x,y = zip(p0,p1,p2)\n",
    "    \n",
    "    cmap = plt.get_cmap(color)\n",
    "    num_color = cmap.N\n",
    "    bezier_points = quadBrezPoints(p0,p1,p2, num_color+1)\n",
    "    segments = np.concatenate([bezier_points[:-1], bezier_points[1:]], axis=1)\n",
    "    segments = segments.reshape(num_color,2,2)\n",
    "    dydx = np.arange(num_color)\n",
    "\n",
    "    lc = LineCollection(segments, cmap=cmap, linewidth = linewidth)\n",
    "    lc.set_array(dydx)\n",
    "    fig = plt.figure()\n",
    "    ax=fig.add_subplot(111)\n",
    "    line = ax.add_collection(lc)\n",
    "    cbar = fig.colorbar(line, ax=ax)\n",
    "    cbar.set_ticks([0,num_color-1])\n",
    "    cbar.set_ticklabels([\"Origin\",\"Destination\"])\n",
    "    ax.set_xlim(min(x),max(x))\n",
    "    ax.set_ylim(min(y),max(y));\n",
    "\n",
    "# fig = plt.figure()\n",
    "# ax=fig.add_subplot(111) \n",
    "def grad_quad_bezier(p0, p1 ,p2 ,ax,color='RdYlGn',linewidth=5):\n",
    "    x,y = zip(p0,p1,p2)\n",
    "    \n",
    "    cmap = plt.get_cmap(color)\n",
    "    num_color = cmap.N\n",
    "    bezier_points = quadBrezPoints(p0,p1,p2, num_color+1)\n",
    "    segments = np.concatenate([bezier_points[:-1], bezier_points[1:]], axis=1)\n",
    "    segments = segments.reshape(num_color,2,2)\n",
    "    dydx = np.arange(num_color)\n",
    "\n",
    "    lc = LineCollection(segments, cmap=cmap, linewidth = linewidth)\n",
    "    lc.set_array(dydx)\n",
    "    line = ax.add_collection(lc)\n",
    "# cbar = fig.colorbar(line, ax=ax)\n",
    "# cbar.set_ticks([0,num_color-1])\n",
    "# cbar.set_ticklabels([\"Origin\",\"Destination\"])\n",
    "# ax.set_xlim(min(x),max(x))\n",
    "# ax.set_ylim(min(y),max(y));"
   ]
  },
  {
   "cell_type": "code",
   "execution_count": 396,
   "metadata": {
    "ExecuteTime": {
     "end_time": "2019-06-12T19:54:56.218810Z",
     "start_time": "2019-06-12T19:54:56.043885Z"
    }
   },
   "outputs": [
    {
     "data": {
      "image/png": "[encoded data removed]",
      "text/plain": [
       "<Figure size 432x288 with 2 Axes>"
      ]
     },
     "metadata": {
      "needs_background": "light"
     },
     "output_type": "display_data"
    }
   ],
   "source": [
    "p0=(0,0)\n",
    "p2=(100,0)\n",
    "p1=get_p1(p0,p2)\n",
    "one_grad_quad_bezier(p0,p1,p2)"
   ]
  },
  {
   "cell_type": "code",
   "execution_count": null,
   "metadata": {},
   "outputs": [],
   "source": []
  }
 ],
 "metadata": {
  "kernelspec": {
   "display_name": "traff_diag",
   "language": "python",
   "name": "traff_diag"
  },
  "language_info": {
   "codemirror_mode": {
    "name": "ipython",
    "version": 3
   },
   "file_extension": ".py",
   "mimetype": "text/x-python",
   "name": "python",
   "nbconvert_exporter": "python",
   "pygments_lexer": "ipython3",
   "version": "3.7.3"
  },
  "varInspector": {
   "cols": {
    "lenName": 16,
    "lenType": 16,
    "lenVar": 40
   },
   "kernels_config": {
    "python": {
     "delete_cmd_postfix": "",
     "delete_cmd_prefix": "del ",
     "library": "var_list.py",
     "varRefreshCmd": "print(var_dic_list())"
    },
    "r": {
     "delete_cmd_postfix": ") ",
     "delete_cmd_prefix": "rm(",
     "library": "var_list.r",
     "varRefreshCmd": "cat(var_dic_list()) "
    }
   },
   "types_to_exclude": [
    "module",
    "function",
    "builtin_function_or_method",
    "instance",
    "_Feature"
   ],
   "window_display": false
  }
 },
 "nbformat": 4,
 "nbformat_minor": 2
}
